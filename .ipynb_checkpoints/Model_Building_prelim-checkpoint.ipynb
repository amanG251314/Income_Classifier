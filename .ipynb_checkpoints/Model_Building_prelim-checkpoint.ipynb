{
 "cells": [
  {
   "cell_type": "code",
   "execution_count": 1,
   "metadata": {},
   "outputs": [],
   "source": [
    "import numpy as np\n",
    "import pandas as pd\n",
    "import matplotlib.pyplot as plt\n",
    "import preprocessing as pu\n",
    "from sklearn.linear_model import LogisticRegression\n",
    "from sklearn.naive_bayes import GaussianNB\n",
    "from sklearn.ensemble import RandomForestClassifier,\\\n",
    "GradientBoostingClassifier, VotingClassifier, BaggingClassifier, ExtraTreesClassifier\\\n",
    ",AdaBoostClassifier\n",
    "\n",
    "\n",
    "\n",
    "from sklearn.model_selection import train_test_split\n",
    "\n",
    "import pickle\n",
    "from sklearn.metrics import classification_report\n",
    "from sklearn.metrics import accuracy_score\n",
    "from collections import Counter"
   ]
  },
  {
   "cell_type": "code",
   "execution_count": null,
   "metadata": {},
   "outputs": [],
   "source": []
  },
  {
   "cell_type": "code",
   "execution_count": 2,
   "metadata": {},
   "outputs": [],
   "source": [
    "df=pd.read_csv('income_evaluation.csv')"
   ]
  },
  {
   "cell_type": "code",
   "execution_count": 3,
   "metadata": {},
   "outputs": [],
   "source": [
    "pd.set_option('display.max_columns', None)"
   ]
  },
  {
   "cell_type": "code",
   "execution_count": 4,
   "metadata": {},
   "outputs": [],
   "source": [
    "df=pu.SpaceRemove(df)"
   ]
  },
  {
   "cell_type": "code",
   "execution_count": 5,
   "metadata": {},
   "outputs": [
    {
     "data": {
      "text/html": [
       "<div>\n",
       "<style scoped>\n",
       "    .dataframe tbody tr th:only-of-type {\n",
       "        vertical-align: middle;\n",
       "    }\n",
       "\n",
       "    .dataframe tbody tr th {\n",
       "        vertical-align: top;\n",
       "    }\n",
       "\n",
       "    .dataframe thead th {\n",
       "        text-align: right;\n",
       "    }\n",
       "</style>\n",
       "<table border=\"1\" class=\"dataframe\">\n",
       "  <thead>\n",
       "    <tr style=\"text-align: right;\">\n",
       "      <th></th>\n",
       "      <th>age</th>\n",
       "      <th>workclass</th>\n",
       "      <th>final_weight</th>\n",
       "      <th>education</th>\n",
       "      <th>education_num</th>\n",
       "      <th>marital_status</th>\n",
       "      <th>occupation</th>\n",
       "      <th>relationship</th>\n",
       "      <th>race</th>\n",
       "      <th>sex</th>\n",
       "      <th>capital_gain</th>\n",
       "      <th>capital_loss</th>\n",
       "      <th>hrs_per_week</th>\n",
       "      <th>native_country</th>\n",
       "      <th>income</th>\n",
       "    </tr>\n",
       "  </thead>\n",
       "  <tbody>\n",
       "    <tr>\n",
       "      <th>0</th>\n",
       "      <td>39</td>\n",
       "      <td>State-gov</td>\n",
       "      <td>77516</td>\n",
       "      <td>Bachelors</td>\n",
       "      <td>13</td>\n",
       "      <td>Never-married</td>\n",
       "      <td>Adm-clerical</td>\n",
       "      <td>Not-in-family</td>\n",
       "      <td>White</td>\n",
       "      <td>Male</td>\n",
       "      <td>2174</td>\n",
       "      <td>0</td>\n",
       "      <td>40</td>\n",
       "      <td>United-States</td>\n",
       "      <td>&lt;=50K</td>\n",
       "    </tr>\n",
       "    <tr>\n",
       "      <th>1</th>\n",
       "      <td>50</td>\n",
       "      <td>Self-emp-not-inc</td>\n",
       "      <td>83311</td>\n",
       "      <td>Bachelors</td>\n",
       "      <td>13</td>\n",
       "      <td>Married-civ-spouse</td>\n",
       "      <td>Exec-managerial</td>\n",
       "      <td>Husband</td>\n",
       "      <td>White</td>\n",
       "      <td>Male</td>\n",
       "      <td>0</td>\n",
       "      <td>0</td>\n",
       "      <td>13</td>\n",
       "      <td>United-States</td>\n",
       "      <td>&lt;=50K</td>\n",
       "    </tr>\n",
       "    <tr>\n",
       "      <th>2</th>\n",
       "      <td>38</td>\n",
       "      <td>Private</td>\n",
       "      <td>215646</td>\n",
       "      <td>HS-grad</td>\n",
       "      <td>9</td>\n",
       "      <td>Divorced</td>\n",
       "      <td>Handlers-cleaners</td>\n",
       "      <td>Not-in-family</td>\n",
       "      <td>White</td>\n",
       "      <td>Male</td>\n",
       "      <td>0</td>\n",
       "      <td>0</td>\n",
       "      <td>40</td>\n",
       "      <td>United-States</td>\n",
       "      <td>&lt;=50K</td>\n",
       "    </tr>\n",
       "    <tr>\n",
       "      <th>3</th>\n",
       "      <td>53</td>\n",
       "      <td>Private</td>\n",
       "      <td>234721</td>\n",
       "      <td>11th</td>\n",
       "      <td>7</td>\n",
       "      <td>Married-civ-spouse</td>\n",
       "      <td>Handlers-cleaners</td>\n",
       "      <td>Husband</td>\n",
       "      <td>Black</td>\n",
       "      <td>Male</td>\n",
       "      <td>0</td>\n",
       "      <td>0</td>\n",
       "      <td>40</td>\n",
       "      <td>United-States</td>\n",
       "      <td>&lt;=50K</td>\n",
       "    </tr>\n",
       "    <tr>\n",
       "      <th>4</th>\n",
       "      <td>28</td>\n",
       "      <td>Private</td>\n",
       "      <td>338409</td>\n",
       "      <td>Bachelors</td>\n",
       "      <td>13</td>\n",
       "      <td>Married-civ-spouse</td>\n",
       "      <td>Prof-specialty</td>\n",
       "      <td>Wife</td>\n",
       "      <td>Black</td>\n",
       "      <td>Female</td>\n",
       "      <td>0</td>\n",
       "      <td>0</td>\n",
       "      <td>40</td>\n",
       "      <td>Cuba</td>\n",
       "      <td>&lt;=50K</td>\n",
       "    </tr>\n",
       "  </tbody>\n",
       "</table>\n",
       "</div>"
      ],
      "text/plain": [
       "   age          workclass  final_weight   education  education_num  \\\n",
       "0   39          State-gov         77516   Bachelors             13   \n",
       "1   50   Self-emp-not-inc         83311   Bachelors             13   \n",
       "2   38            Private        215646     HS-grad              9   \n",
       "3   53            Private        234721        11th              7   \n",
       "4   28            Private        338409   Bachelors             13   \n",
       "\n",
       "        marital_status          occupation    relationship    race      sex  \\\n",
       "0        Never-married        Adm-clerical   Not-in-family   White     Male   \n",
       "1   Married-civ-spouse     Exec-managerial         Husband   White     Male   \n",
       "2             Divorced   Handlers-cleaners   Not-in-family   White     Male   \n",
       "3   Married-civ-spouse   Handlers-cleaners         Husband   Black     Male   \n",
       "4   Married-civ-spouse      Prof-specialty            Wife   Black   Female   \n",
       "\n",
       "   capital_gain  capital_loss  hrs_per_week  native_country  income  \n",
       "0          2174             0            40   United-States   <=50K  \n",
       "1             0             0            13   United-States   <=50K  \n",
       "2             0             0            40   United-States   <=50K  \n",
       "3             0             0            40   United-States   <=50K  \n",
       "4             0             0            40            Cuba   <=50K  "
      ]
     },
     "execution_count": 5,
     "metadata": {},
     "output_type": "execute_result"
    }
   ],
   "source": [
    "df.head()"
   ]
  },
  {
   "cell_type": "code",
   "execution_count": 6,
   "metadata": {},
   "outputs": [
    {
     "name": "stdout",
     "output_type": "stream",
     "text": [
      "['workclass', 'education', 'marital_status', 'occupation', 'relationship', 'race', 'sex', 'native_country']\n"
     ]
    }
   ],
   "source": [
    "y=df['income'].apply(lambda x:0 if x==' <=50K' else 1)\n",
    "X=df.drop(['income'],axis=1)\n",
    "X,Encoders=pu.Cat2Num(X)"
   ]
  },
  {
   "cell_type": "code",
   "execution_count": 7,
   "metadata": {},
   "outputs": [
    {
     "data": {
      "text/html": [
       "<div>\n",
       "<style scoped>\n",
       "    .dataframe tbody tr th:only-of-type {\n",
       "        vertical-align: middle;\n",
       "    }\n",
       "\n",
       "    .dataframe tbody tr th {\n",
       "        vertical-align: top;\n",
       "    }\n",
       "\n",
       "    .dataframe thead th {\n",
       "        text-align: right;\n",
       "    }\n",
       "</style>\n",
       "<table border=\"1\" class=\"dataframe\">\n",
       "  <thead>\n",
       "    <tr style=\"text-align: right;\">\n",
       "      <th></th>\n",
       "      <th>capital_gain</th>\n",
       "      <th>education_num</th>\n",
       "      <th>hrs_per_week</th>\n",
       "      <th>capital_loss</th>\n",
       "      <th>final_weight</th>\n",
       "      <th>age</th>\n",
       "      <th>marital_status_ Divorced</th>\n",
       "      <th>marital_status_ Married-AF-spouse</th>\n",
       "      <th>marital_status_ Married-civ-spouse</th>\n",
       "      <th>marital_status_ Married-spouse-absent</th>\n",
       "      <th>marital_status_ Never-married</th>\n",
       "      <th>marital_status_ Separated</th>\n",
       "      <th>marital_status_ Widowed</th>\n",
       "      <th>sex_ Female</th>\n",
       "      <th>sex_ Male</th>\n",
       "      <th>relationship_ Husband</th>\n",
       "      <th>relationship_ Not-in-family</th>\n",
       "      <th>relationship_ Other-relative</th>\n",
       "      <th>relationship_ Own-child</th>\n",
       "      <th>relationship_ Unmarried</th>\n",
       "      <th>relationship_ Wife</th>\n",
       "      <th>race_ Amer-Indian-Eskimo</th>\n",
       "      <th>race_ Asian-Pac-Islander</th>\n",
       "      <th>race_ Black</th>\n",
       "      <th>race_ Other</th>\n",
       "      <th>race_ White</th>\n",
       "      <th>workclass</th>\n",
       "      <th>education</th>\n",
       "      <th>native_country</th>\n",
       "      <th>occupation</th>\n",
       "    </tr>\n",
       "  </thead>\n",
       "  <tbody>\n",
       "    <tr>\n",
       "      <th>0</th>\n",
       "      <td>2174</td>\n",
       "      <td>13</td>\n",
       "      <td>40</td>\n",
       "      <td>0</td>\n",
       "      <td>77516</td>\n",
       "      <td>39</td>\n",
       "      <td>0.0</td>\n",
       "      <td>0.0</td>\n",
       "      <td>0.0</td>\n",
       "      <td>0.0</td>\n",
       "      <td>1.0</td>\n",
       "      <td>0.0</td>\n",
       "      <td>0.0</td>\n",
       "      <td>0.0</td>\n",
       "      <td>1.0</td>\n",
       "      <td>0.0</td>\n",
       "      <td>1.0</td>\n",
       "      <td>0.0</td>\n",
       "      <td>0.0</td>\n",
       "      <td>0.0</td>\n",
       "      <td>0.0</td>\n",
       "      <td>0.0</td>\n",
       "      <td>0.0</td>\n",
       "      <td>0.0</td>\n",
       "      <td>0.0</td>\n",
       "      <td>1.0</td>\n",
       "      <td>7</td>\n",
       "      <td>9</td>\n",
       "      <td>39</td>\n",
       "      <td>1</td>\n",
       "    </tr>\n",
       "    <tr>\n",
       "      <th>1</th>\n",
       "      <td>0</td>\n",
       "      <td>13</td>\n",
       "      <td>13</td>\n",
       "      <td>0</td>\n",
       "      <td>83311</td>\n",
       "      <td>50</td>\n",
       "      <td>0.0</td>\n",
       "      <td>0.0</td>\n",
       "      <td>1.0</td>\n",
       "      <td>0.0</td>\n",
       "      <td>0.0</td>\n",
       "      <td>0.0</td>\n",
       "      <td>0.0</td>\n",
       "      <td>0.0</td>\n",
       "      <td>1.0</td>\n",
       "      <td>1.0</td>\n",
       "      <td>0.0</td>\n",
       "      <td>0.0</td>\n",
       "      <td>0.0</td>\n",
       "      <td>0.0</td>\n",
       "      <td>0.0</td>\n",
       "      <td>0.0</td>\n",
       "      <td>0.0</td>\n",
       "      <td>0.0</td>\n",
       "      <td>0.0</td>\n",
       "      <td>1.0</td>\n",
       "      <td>6</td>\n",
       "      <td>9</td>\n",
       "      <td>39</td>\n",
       "      <td>4</td>\n",
       "    </tr>\n",
       "    <tr>\n",
       "      <th>2</th>\n",
       "      <td>0</td>\n",
       "      <td>9</td>\n",
       "      <td>40</td>\n",
       "      <td>0</td>\n",
       "      <td>215646</td>\n",
       "      <td>38</td>\n",
       "      <td>1.0</td>\n",
       "      <td>0.0</td>\n",
       "      <td>0.0</td>\n",
       "      <td>0.0</td>\n",
       "      <td>0.0</td>\n",
       "      <td>0.0</td>\n",
       "      <td>0.0</td>\n",
       "      <td>0.0</td>\n",
       "      <td>1.0</td>\n",
       "      <td>0.0</td>\n",
       "      <td>1.0</td>\n",
       "      <td>0.0</td>\n",
       "      <td>0.0</td>\n",
       "      <td>0.0</td>\n",
       "      <td>0.0</td>\n",
       "      <td>0.0</td>\n",
       "      <td>0.0</td>\n",
       "      <td>0.0</td>\n",
       "      <td>0.0</td>\n",
       "      <td>1.0</td>\n",
       "      <td>4</td>\n",
       "      <td>11</td>\n",
       "      <td>39</td>\n",
       "      <td>6</td>\n",
       "    </tr>\n",
       "    <tr>\n",
       "      <th>3</th>\n",
       "      <td>0</td>\n",
       "      <td>7</td>\n",
       "      <td>40</td>\n",
       "      <td>0</td>\n",
       "      <td>234721</td>\n",
       "      <td>53</td>\n",
       "      <td>0.0</td>\n",
       "      <td>0.0</td>\n",
       "      <td>1.0</td>\n",
       "      <td>0.0</td>\n",
       "      <td>0.0</td>\n",
       "      <td>0.0</td>\n",
       "      <td>0.0</td>\n",
       "      <td>0.0</td>\n",
       "      <td>1.0</td>\n",
       "      <td>1.0</td>\n",
       "      <td>0.0</td>\n",
       "      <td>0.0</td>\n",
       "      <td>0.0</td>\n",
       "      <td>0.0</td>\n",
       "      <td>0.0</td>\n",
       "      <td>0.0</td>\n",
       "      <td>0.0</td>\n",
       "      <td>1.0</td>\n",
       "      <td>0.0</td>\n",
       "      <td>0.0</td>\n",
       "      <td>4</td>\n",
       "      <td>1</td>\n",
       "      <td>39</td>\n",
       "      <td>6</td>\n",
       "    </tr>\n",
       "    <tr>\n",
       "      <th>4</th>\n",
       "      <td>0</td>\n",
       "      <td>13</td>\n",
       "      <td>40</td>\n",
       "      <td>0</td>\n",
       "      <td>338409</td>\n",
       "      <td>28</td>\n",
       "      <td>0.0</td>\n",
       "      <td>0.0</td>\n",
       "      <td>1.0</td>\n",
       "      <td>0.0</td>\n",
       "      <td>0.0</td>\n",
       "      <td>0.0</td>\n",
       "      <td>0.0</td>\n",
       "      <td>1.0</td>\n",
       "      <td>0.0</td>\n",
       "      <td>0.0</td>\n",
       "      <td>0.0</td>\n",
       "      <td>0.0</td>\n",
       "      <td>0.0</td>\n",
       "      <td>0.0</td>\n",
       "      <td>1.0</td>\n",
       "      <td>0.0</td>\n",
       "      <td>0.0</td>\n",
       "      <td>1.0</td>\n",
       "      <td>0.0</td>\n",
       "      <td>0.0</td>\n",
       "      <td>4</td>\n",
       "      <td>9</td>\n",
       "      <td>5</td>\n",
       "      <td>10</td>\n",
       "    </tr>\n",
       "  </tbody>\n",
       "</table>\n",
       "</div>"
      ],
      "text/plain": [
       "   capital_gain  education_num  hrs_per_week  capital_loss  final_weight  age  \\\n",
       "0          2174             13            40             0         77516   39   \n",
       "1             0             13            13             0         83311   50   \n",
       "2             0              9            40             0        215646   38   \n",
       "3             0              7            40             0        234721   53   \n",
       "4             0             13            40             0        338409   28   \n",
       "\n",
       "   marital_status_ Divorced  marital_status_ Married-AF-spouse  \\\n",
       "0                       0.0                                0.0   \n",
       "1                       0.0                                0.0   \n",
       "2                       1.0                                0.0   \n",
       "3                       0.0                                0.0   \n",
       "4                       0.0                                0.0   \n",
       "\n",
       "   marital_status_ Married-civ-spouse  marital_status_ Married-spouse-absent  \\\n",
       "0                                 0.0                                    0.0   \n",
       "1                                 1.0                                    0.0   \n",
       "2                                 0.0                                    0.0   \n",
       "3                                 1.0                                    0.0   \n",
       "4                                 1.0                                    0.0   \n",
       "\n",
       "   marital_status_ Never-married  marital_status_ Separated  \\\n",
       "0                            1.0                        0.0   \n",
       "1                            0.0                        0.0   \n",
       "2                            0.0                        0.0   \n",
       "3                            0.0                        0.0   \n",
       "4                            0.0                        0.0   \n",
       "\n",
       "   marital_status_ Widowed  sex_ Female  sex_ Male  relationship_ Husband  \\\n",
       "0                      0.0          0.0        1.0                    0.0   \n",
       "1                      0.0          0.0        1.0                    1.0   \n",
       "2                      0.0          0.0        1.0                    0.0   \n",
       "3                      0.0          0.0        1.0                    1.0   \n",
       "4                      0.0          1.0        0.0                    0.0   \n",
       "\n",
       "   relationship_ Not-in-family  relationship_ Other-relative  \\\n",
       "0                          1.0                           0.0   \n",
       "1                          0.0                           0.0   \n",
       "2                          1.0                           0.0   \n",
       "3                          0.0                           0.0   \n",
       "4                          0.0                           0.0   \n",
       "\n",
       "   relationship_ Own-child  relationship_ Unmarried  relationship_ Wife  \\\n",
       "0                      0.0                      0.0                 0.0   \n",
       "1                      0.0                      0.0                 0.0   \n",
       "2                      0.0                      0.0                 0.0   \n",
       "3                      0.0                      0.0                 0.0   \n",
       "4                      0.0                      0.0                 1.0   \n",
       "\n",
       "   race_ Amer-Indian-Eskimo  race_ Asian-Pac-Islander  race_ Black  \\\n",
       "0                       0.0                       0.0          0.0   \n",
       "1                       0.0                       0.0          0.0   \n",
       "2                       0.0                       0.0          0.0   \n",
       "3                       0.0                       0.0          1.0   \n",
       "4                       0.0                       0.0          1.0   \n",
       "\n",
       "   race_ Other  race_ White  workclass  education  native_country  occupation  \n",
       "0          0.0          1.0          7          9              39           1  \n",
       "1          0.0          1.0          6          9              39           4  \n",
       "2          0.0          1.0          4         11              39           6  \n",
       "3          0.0          0.0          4          1              39           6  \n",
       "4          0.0          0.0          4          9               5          10  "
      ]
     },
     "execution_count": 7,
     "metadata": {},
     "output_type": "execute_result"
    }
   ],
   "source": [
    "X.head()"
   ]
  },
  {
   "cell_type": "code",
   "execution_count": 8,
   "metadata": {},
   "outputs": [],
   "source": [
    "X_train, X_test, y_train, y_test = train_test_split(\\\n",
    "     X, y, test_size=0.33, random_state=42)"
   ]
  },
  {
   "cell_type": "code",
   "execution_count": 9,
   "metadata": {},
   "outputs": [
    {
     "name": "stdout",
     "output_type": "stream",
     "text": [
      "Accuracy of Model ExtraTreesClassifier() is : 0.844034989763633 with classification report \n",
      "               precision    recall  f1-score   support\n",
      "\n",
      "           0       0.88      0.92      0.90      8196\n",
      "           1       0.69      0.61      0.65      2550\n",
      "\n",
      "    accuracy                           0.84     10746\n",
      "   macro avg       0.79      0.76      0.78     10746\n",
      "weighted avg       0.84      0.84      0.84     10746\n",
      "\n"
     ]
    }
   ],
   "source": [
    "#Basic Model Building\n",
    "Model_ET=ExtraTreesClassifier()\n",
    "Model_ET.fit(X_train,y_train)\n",
    "pred=Model_ET.predict(X_test)\n",
    "print('Accuracy of Model {} is : {} with classification report \\n {}'.format(Model_ET,accuracy_score(y_test,pred),classification_report(y_test,pred)))"
   ]
  },
  {
   "cell_type": "markdown",
   "metadata": {},
   "source": [
    "Balancing Need to be done "
   ]
  },
  {
   "cell_type": "markdown",
   "metadata": {},
   "source": [
    "## UnderSampling"
   ]
  },
  {
   "cell_type": "code",
   "execution_count": 10,
   "metadata": {
    "scrolled": true
   },
   "outputs": [
    {
     "name": "stderr",
     "output_type": "stream",
     "text": [
      "c:\\users\\aman\\appdata\\local\\programs\\python\\python38\\lib\\site-packages\\imblearn\\utils\\_validation.py:587: FutureWarning: Pass sampling_strategy=0.8 as keyword args. From version 0.9 passing these as positional arguments will result in an error\n",
      "  warnings.warn(\n"
     ]
    },
    {
     "name": "stdout",
     "output_type": "stream",
     "text": [
      "The number of classes before fit Counter({0: 16524, 1: 5291})\n",
      "The number of classes after fit Counter({0: 6613, 1: 5291})\n"
     ]
    }
   ],
   "source": [
    "from imblearn.under_sampling import NearMiss\n",
    "ns=NearMiss(0.8)\n",
    "X_train_ns,y_train_ns=ns.fit_resample(X_train,y_train)\n",
    "print(\"The number of classes before fit {}\".format(Counter(y_train)))\n",
    "print(\"The number of classes after fit {}\".format(Counter(y_train_ns)))"
   ]
  },
  {
   "cell_type": "code",
   "execution_count": 11,
   "metadata": {},
   "outputs": [
    {
     "name": "stdout",
     "output_type": "stream",
     "text": [
      "Accuracy of Model ExtraTreesClassifier() with Undersamped is : 0.7872696817420436 with classification report \n",
      "               precision    recall  f1-score   support\n",
      "\n",
      "           0       0.93      0.78      0.85      8196\n",
      "           1       0.53      0.80      0.64      2550\n",
      "\n",
      "    accuracy                           0.79     10746\n",
      "   macro avg       0.73      0.79      0.74     10746\n",
      "weighted avg       0.83      0.79      0.80     10746\n",
      "\n"
     ]
    }
   ],
   "source": [
    "Model_ET=ExtraTreesClassifier()\n",
    "Model_ET.fit(X_train_ns,y_train_ns)\n",
    "pred=Model_ET.predict(X_test)\n",
    "print('Accuracy of Model {} with Undersamped is : {} with classification report \\n {}'.format(Model_ET,accuracy_score(y_test,pred),classification_report(y_test,pred)))"
   ]
  },
  {
   "cell_type": "markdown",
   "metadata": {},
   "source": [
    "## OverSampling"
   ]
  },
  {
   "cell_type": "code",
   "execution_count": 81,
   "metadata": {},
   "outputs": [
    {
     "name": "stdout",
     "output_type": "stream",
     "text": [
      "The number of classes before fit Counter({0: 16524, 1: 5291})\n",
      "The number of classes after fit Counter({0: 16524, 1: 12393})\n"
     ]
    },
    {
     "name": "stderr",
     "output_type": "stream",
     "text": [
      "c:\\users\\aman\\appdata\\local\\programs\\python\\python38\\lib\\site-packages\\imblearn\\utils\\_validation.py:587: FutureWarning: Pass sampling_strategy=0.75 as keyword args. From version 0.9 passing these as positional arguments will result in an error\n",
      "  warnings.warn(\n"
     ]
    }
   ],
   "source": [
    "from imblearn.over_sampling import RandomOverSampler\n",
    "os=RandomOverSampler(0.75)\n",
    "X_train_ns,y_train_ns=os.fit_resample(X_train,y_train)\n",
    "print(\"The number of classes before fit {}\".format(Counter(y_train)))\n",
    "print(\"The number of classes after fit {}\".format(Counter(y_train_ns)))"
   ]
  },
  {
   "cell_type": "code",
   "execution_count": 82,
   "metadata": {},
   "outputs": [
    {
     "name": "stdout",
     "output_type": "stream",
     "text": [
      "Accuracy of Model ExtraTreesClassifier() with Oversamped is : 0.8430113530616044 with classification report \n",
      "               precision    recall  f1-score   support\n",
      "\n",
      "           0       0.88      0.92      0.90      8196\n",
      "           1       0.69      0.61      0.65      2550\n",
      "\n",
      "    accuracy                           0.84     10746\n",
      "   macro avg       0.79      0.76      0.77     10746\n",
      "weighted avg       0.84      0.84      0.84     10746\n",
      "\n"
     ]
    }
   ],
   "source": [
    "Model_ET=ExtraTreesClassifier()\n",
    "Model_ET.fit(X_train_ns,y_train_ns)\n",
    "pred=Model_ET.predict(X_test)\n",
    "print('Accuracy of Model {} with Oversamped is : {} with classification report \\n {}'.format(Model_ET,accuracy_score(y_test,pred),classification_report(y_test,pred)))"
   ]
  },
  {
   "cell_type": "markdown",
   "metadata": {},
   "source": [
    "## SMOTE"
   ]
  },
  {
   "cell_type": "code",
   "execution_count": 101,
   "metadata": {},
   "outputs": [
    {
     "name": "stderr",
     "output_type": "stream",
     "text": [
      "c:\\users\\aman\\appdata\\local\\programs\\python\\python38\\lib\\site-packages\\imblearn\\utils\\_validation.py:587: FutureWarning: Pass sampling_strategy=0.55 as keyword args. From version 0.9 passing these as positional arguments will result in an error\n",
      "  warnings.warn(\n"
     ]
    },
    {
     "name": "stdout",
     "output_type": "stream",
     "text": [
      "The number of classes before fit Counter({0: 16524, 1: 5291})\n",
      "The number of classes after fit Counter({0: 14785, 1: 7349})\n"
     ]
    }
   ],
   "source": [
    "from imblearn.combine import SMOTETomek\n",
    "os=SMOTETomek(0.55)\n",
    "X_train_ns,y_train_ns=os.fit_resample(X_train,y_train)\n",
    "print(\"The number of classes before fit {}\".format(Counter(y_train)))\n",
    "print(\"The number of classes after fit {}\".format(Counter(y_train_ns)))"
   ]
  },
  {
   "cell_type": "code",
   "execution_count": 102,
   "metadata": {},
   "outputs": [
    {
     "name": "stdout",
     "output_type": "stream",
     "text": [
      "Accuracy of  Model ExtraTreesClassifier() with SMOTE is : 0.8464544946957008 with classification report \n",
      "               precision    recall  f1-score   support\n",
      "\n",
      "           0       0.88      0.92      0.90      8196\n",
      "           1       0.71      0.61      0.65      2550\n",
      "\n",
      "    accuracy                           0.85     10746\n",
      "   macro avg       0.79      0.76      0.78     10746\n",
      "weighted avg       0.84      0.85      0.84     10746\n",
      "\n"
     ]
    }
   ],
   "source": [
    "Model_ET=ExtraTreesClassifier()\n",
    "Model_ET.fit(X_train_ns,y_train_ns)\n",
    "pred=Model_ET.predict(X_test)\n",
    "print('Accuracy of  Model {} with SMOTE is : {} with classification report \\n {}'.format(Model_ET,accuracy_score(y_test,pred),classification_report(y_test,pred)))"
   ]
  },
  {
   "cell_type": "markdown",
   "metadata": {},
   "source": [
    "Smote is somewhat improving the model "
   ]
  },
  {
   "cell_type": "markdown",
   "metadata": {},
   "source": [
    "# Feature Importance"
   ]
  },
  {
   "cell_type": "code",
   "execution_count": 12,
   "metadata": {},
   "outputs": [
    {
     "data": {
      "text/plain": [
       "array([0.0690477 , 0.07898317, 0.08071115, 0.02816491, 0.15130052,\n",
       "       0.12305069, 0.00636689, 0.00034823, 0.10452802, 0.00105197,\n",
       "       0.03003095, 0.00179928, 0.00175559, 0.01023818, 0.01227175,\n",
       "       0.05425492, 0.01432117, 0.00286575, 0.02644774, 0.00668628,\n",
       "       0.01616004, 0.00146152, 0.0029548 , 0.00362529, 0.00127922,\n",
       "       0.00487308, 0.04102417, 0.03761884, 0.01540744, 0.07137074])"
      ]
     },
     "execution_count": 12,
     "metadata": {},
     "output_type": "execute_result"
    }
   ],
   "source": [
    "Model_ET.feature_importances_"
   ]
  },
  {
   "cell_type": "code",
   "execution_count": 13,
   "metadata": {},
   "outputs": [
    {
     "data": {
      "text/plain": [
       "<AxesSubplot:>"
      ]
     },
     "execution_count": 13,
     "metadata": {},
     "output_type": "execute_result"
    },
    {
     "data": {
      "image/png": "[encoded data removed]",
      "text/plain": [
       "<Figure size 1440x720 with 1 Axes>"
      ]
     },
     "metadata": {
      "needs_background": "light"
     },
     "output_type": "display_data"
    }
   ],
   "source": [
    "plt.figure(figsize=(20,10))\n",
    "pd.Series(Model_ET.feature_importances_, index = X_train_ns.columns).nlargest(len(X_train_ns.columns)).plot(kind = 'barh')"
   ]
  },
  {
   "cell_type": "code",
   "execution_count": 111,
   "metadata": {},
   "outputs": [
    {
     "data": {
      "text/plain": [
       "Index(['capital_gain', 'age', 'education_num', 'final_weight', 'hrs_per_week',\n",
       "       'capital_loss', 'marital_status_ Divorced',\n",
       "       'marital_status_ Married-AF-spouse',\n",
       "       'marital_status_ Married-civ-spouse',\n",
       "       'marital_status_ Married-spouse-absent',\n",
       "       'marital_status_ Never-married', 'marital_status_ Separated',\n",
       "       'marital_status_ Widowed', 'sex_ Female', 'sex_ Male',\n",
       "       'race_ Amer-Indian-Eskimo', 'race_ Asian-Pac-Islander', 'race_ Black',\n",
       "       'race_ Other', 'race_ White', 'relationship_ Husband',\n",
       "       'relationship_ Not-in-family', 'relationship_ Other-relative',\n",
       "       'relationship_ Own-child', 'relationship_ Unmarried',\n",
       "       'relationship_ Wife', 'workclass', 'education', 'native_country',\n",
       "       'occupation'],\n",
       "      dtype='object')"
      ]
     },
     "execution_count": 111,
     "metadata": {},
     "output_type": "execute_result"
    }
   ],
   "source": [
    "X_train_ns.columns"
   ]
  },
  {
   "cell_type": "code",
   "execution_count": 168,
   "metadata": {},
   "outputs": [],
   "source": [
    "bst_col=['age','capital_gain','marital_status_ Married-civ-spouse','final_weight','relationship_ Husband','education_num',\\\n",
    "        'hrs_per_week','education','occupation','marital_status_ Never-married','workclass','sex_ Female','relationship_ Not-in-family',\\\n",
    "        'relationship_ Own-child','relationship_ Wife','native_country','race_ White','marital_status_ Divorced','race_ Black'\\\n",
    "]"
   ]
  },
  {
   "cell_type": "code",
   "execution_count": null,
   "metadata": {},
   "outputs": [],
   "source": []
  },
  {
   "cell_type": "code",
   "execution_count": 174,
   "metadata": {},
   "outputs": [],
   "source": [
    "output='bst_col.pickle'\n",
    "pickle_out = open(output,'wb')\n",
    "pickle.dump(bst_col,pickle_out)\n",
    "pickle_out.close()"
   ]
  },
  {
   "cell_type": "code",
   "execution_count": 169,
   "metadata": {},
   "outputs": [],
   "source": [
    "X_train_final=X_train_ns[bst_col]\n",
    "X_test_final=X_test[bst_col]"
   ]
  },
  {
   "cell_type": "code",
   "execution_count": 170,
   "metadata": {},
   "outputs": [
    {
     "data": {
      "text/html": [
       "<div>\n",
       "<style scoped>\n",
       "    .dataframe tbody tr th:only-of-type {\n",
       "        vertical-align: middle;\n",
       "    }\n",
       "\n",
       "    .dataframe tbody tr th {\n",
       "        vertical-align: top;\n",
       "    }\n",
       "\n",
       "    .dataframe thead th {\n",
       "        text-align: right;\n",
       "    }\n",
       "</style>\n",
       "<table border=\"1\" class=\"dataframe\">\n",
       "  <thead>\n",
       "    <tr style=\"text-align: right;\">\n",
       "      <th></th>\n",
       "      <th>age</th>\n",
       "      <th>capital_gain</th>\n",
       "      <th>marital_status_ Married-civ-spouse</th>\n",
       "      <th>final_weight</th>\n",
       "      <th>relationship_ Husband</th>\n",
       "      <th>education_num</th>\n",
       "      <th>hrs_per_week</th>\n",
       "      <th>education</th>\n",
       "      <th>occupation</th>\n",
       "      <th>marital_status_ Never-married</th>\n",
       "      <th>workclass</th>\n",
       "      <th>sex_ Female</th>\n",
       "      <th>relationship_ Not-in-family</th>\n",
       "      <th>relationship_ Own-child</th>\n",
       "      <th>relationship_ Wife</th>\n",
       "      <th>native_country</th>\n",
       "      <th>race_ White</th>\n",
       "      <th>marital_status_ Divorced</th>\n",
       "      <th>race_ Black</th>\n",
       "    </tr>\n",
       "  </thead>\n",
       "  <tbody>\n",
       "    <tr>\n",
       "      <th>0</th>\n",
       "      <td>51</td>\n",
       "      <td>0</td>\n",
       "      <td>1.0</td>\n",
       "      <td>123429</td>\n",
       "      <td>1.0</td>\n",
       "      <td>14</td>\n",
       "      <td>50</td>\n",
       "      <td>12</td>\n",
       "      <td>4</td>\n",
       "      <td>0.0</td>\n",
       "      <td>4</td>\n",
       "      <td>0.0</td>\n",
       "      <td>0.0</td>\n",
       "      <td>0.0</td>\n",
       "      <td>0.0</td>\n",
       "      <td>39</td>\n",
       "      <td>1.0</td>\n",
       "      <td>0.0</td>\n",
       "      <td>0.0</td>\n",
       "    </tr>\n",
       "    <tr>\n",
       "      <th>1</th>\n",
       "      <td>46</td>\n",
       "      <td>0</td>\n",
       "      <td>0.0</td>\n",
       "      <td>148489</td>\n",
       "      <td>0.0</td>\n",
       "      <td>9</td>\n",
       "      <td>40</td>\n",
       "      <td>11</td>\n",
       "      <td>0</td>\n",
       "      <td>0.0</td>\n",
       "      <td>0</td>\n",
       "      <td>0.0</td>\n",
       "      <td>1.0</td>\n",
       "      <td>0.0</td>\n",
       "      <td>0.0</td>\n",
       "      <td>30</td>\n",
       "      <td>0.0</td>\n",
       "      <td>0.0</td>\n",
       "      <td>0.0</td>\n",
       "    </tr>\n",
       "    <tr>\n",
       "      <th>2</th>\n",
       "      <td>25</td>\n",
       "      <td>0</td>\n",
       "      <td>0.0</td>\n",
       "      <td>267431</td>\n",
       "      <td>0.0</td>\n",
       "      <td>13</td>\n",
       "      <td>55</td>\n",
       "      <td>9</td>\n",
       "      <td>10</td>\n",
       "      <td>1.0</td>\n",
       "      <td>4</td>\n",
       "      <td>1.0</td>\n",
       "      <td>0.0</td>\n",
       "      <td>1.0</td>\n",
       "      <td>0.0</td>\n",
       "      <td>39</td>\n",
       "      <td>0.0</td>\n",
       "      <td>0.0</td>\n",
       "      <td>1.0</td>\n",
       "    </tr>\n",
       "    <tr>\n",
       "      <th>3</th>\n",
       "      <td>27</td>\n",
       "      <td>0</td>\n",
       "      <td>0.0</td>\n",
       "      <td>37088</td>\n",
       "      <td>0.0</td>\n",
       "      <td>12</td>\n",
       "      <td>40</td>\n",
       "      <td>7</td>\n",
       "      <td>8</td>\n",
       "      <td>1.0</td>\n",
       "      <td>4</td>\n",
       "      <td>0.0</td>\n",
       "      <td>1.0</td>\n",
       "      <td>0.0</td>\n",
       "      <td>0.0</td>\n",
       "      <td>39</td>\n",
       "      <td>1.0</td>\n",
       "      <td>0.0</td>\n",
       "      <td>0.0</td>\n",
       "    </tr>\n",
       "    <tr>\n",
       "      <th>4</th>\n",
       "      <td>47</td>\n",
       "      <td>7688</td>\n",
       "      <td>1.0</td>\n",
       "      <td>114459</td>\n",
       "      <td>1.0</td>\n",
       "      <td>14</td>\n",
       "      <td>45</td>\n",
       "      <td>12</td>\n",
       "      <td>10</td>\n",
       "      <td>0.0</td>\n",
       "      <td>2</td>\n",
       "      <td>0.0</td>\n",
       "      <td>0.0</td>\n",
       "      <td>0.0</td>\n",
       "      <td>0.0</td>\n",
       "      <td>39</td>\n",
       "      <td>1.0</td>\n",
       "      <td>0.0</td>\n",
       "      <td>0.0</td>\n",
       "    </tr>\n",
       "  </tbody>\n",
       "</table>\n",
       "</div>"
      ],
      "text/plain": [
       "   age  capital_gain  marital_status_ Married-civ-spouse  final_weight  \\\n",
       "0   51             0                                 1.0        123429   \n",
       "1   46             0                                 0.0        148489   \n",
       "2   25             0                                 0.0        267431   \n",
       "3   27             0                                 0.0         37088   \n",
       "4   47          7688                                 1.0        114459   \n",
       "\n",
       "   relationship_ Husband  education_num  hrs_per_week  education  occupation  \\\n",
       "0                    1.0             14            50         12           4   \n",
       "1                    0.0              9            40         11           0   \n",
       "2                    0.0             13            55          9          10   \n",
       "3                    0.0             12            40          7           8   \n",
       "4                    1.0             14            45         12          10   \n",
       "\n",
       "   marital_status_ Never-married  workclass  sex_ Female  \\\n",
       "0                            0.0          4          0.0   \n",
       "1                            0.0          0          0.0   \n",
       "2                            1.0          4          1.0   \n",
       "3                            1.0          4          0.0   \n",
       "4                            0.0          2          0.0   \n",
       "\n",
       "   relationship_ Not-in-family  relationship_ Own-child  relationship_ Wife  \\\n",
       "0                          0.0                      0.0                 0.0   \n",
       "1                          1.0                      0.0                 0.0   \n",
       "2                          0.0                      1.0                 0.0   \n",
       "3                          1.0                      0.0                 0.0   \n",
       "4                          0.0                      0.0                 0.0   \n",
       "\n",
       "   native_country  race_ White  marital_status_ Divorced  race_ Black  \n",
       "0              39          1.0                       0.0          0.0  \n",
       "1              30          0.0                       0.0          0.0  \n",
       "2              39          0.0                       0.0          1.0  \n",
       "3              39          1.0                       0.0          0.0  \n",
       "4              39          1.0                       0.0          0.0  "
      ]
     },
     "execution_count": 170,
     "metadata": {},
     "output_type": "execute_result"
    }
   ],
   "source": [
    "X_train_final.head()"
   ]
  },
  {
   "cell_type": "code",
   "execution_count": 171,
   "metadata": {},
   "outputs": [
    {
     "name": "stdout",
     "output_type": "stream",
     "text": [
      "Accuracy of  Model ExtraTreesClassifier() after feature selection is : 0.8401265587195236 with classification report \n",
      "               precision    recall  f1-score   support\n",
      "\n",
      "           0       0.88      0.92      0.90      8196\n",
      "           1       0.69      0.59      0.64      2550\n",
      "\n",
      "    accuracy                           0.84     10746\n",
      "   macro avg       0.78      0.75      0.77     10746\n",
      "weighted avg       0.83      0.84      0.84     10746\n",
      "\n"
     ]
    }
   ],
   "source": [
    "Model_ET=ExtraTreesClassifier()\n",
    "Model_ET.fit(X_train_final,y_train_ns)\n",
    "pred=Model_ET.predict(X_test_final)\n",
    "print('Accuracy of  Model {} after feature selection is : {} with classification report \\n {}'.format(Model_ET,accuracy_score(y_test,pred),classification_report(y_test,pred)))"
   ]
  },
  {
   "cell_type": "code",
   "execution_count": null,
   "metadata": {},
   "outputs": [],
   "source": []
  },
  {
   "cell_type": "code",
   "execution_count": null,
   "metadata": {},
   "outputs": [],
   "source": []
  }
 ],
 "metadata": {
  "kernelspec": {
   "display_name": "Python 3",
   "language": "python",
   "name": "python3"
  },
  "language_info": {
   "codemirror_mode": {
    "name": "ipython",
    "version": 3
   },
   "file_extension": ".py",
   "mimetype": "text/x-python",
   "name": "python",
   "nbconvert_exporter": "python",
   "pygments_lexer": "ipython3",
   "version": "3.8.4"
  }
 },
 "nbformat": 4,
 "nbformat_minor": 4
}
